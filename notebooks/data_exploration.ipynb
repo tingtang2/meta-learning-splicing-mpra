{
 "cells": [
  {
   "cell_type": "code",
   "execution_count": 1,
   "metadata": {},
   "outputs": [],
   "source": [
    "import pickle\n",
    "import numpy as np"
   ]
  },
  {
   "cell_type": "code",
   "execution_count": 3,
   "metadata": {},
   "outputs": [],
   "source": [
    "#Load 5'ss plasmid data\n",
    "plasmid_dict = pickle.load(open('../../splirent-data/alt_5ss_data.pickle', 'rb'))"
   ]
  },
  {
   "cell_type": "code",
   "execution_count": 5,
   "metadata": {},
   "outputs": [
    {
     "data": {
      "text/plain": [
       "dict_keys(['min_df', 'hek_df', 'hela_df', 'mcf7_df', 'cho_df', 'hek_count', 'hela_count', 'mcf7_count', 'cho_count', 'min_hek_count', 'min_hela_count', 'min_mcf7_count', 'min_cho_count'])"
      ]
     },
     "execution_count": 5,
     "metadata": {},
     "output_type": "execute_result"
    }
   ],
   "source": [
    "plasmid_dict.keys()"
   ]
  },
  {
   "cell_type": "code",
   "execution_count": 7,
   "metadata": {},
   "outputs": [
    {
     "name": "stdout",
     "output_type": "stream",
     "text": [
      "Training set size = 238183\n",
      "Validation set size = 13232\n",
      "Test set size = 13232\n"
     ]
    }
   ],
   "source": [
    "#Generate training and test set indexes\n",
    "valid_set_size=0.05\n",
    "test_set_size=0.05\n",
    "\n",
    "plasmid_index = np.arange(len(plasmid_dict['min_df']), dtype=np.int)#[:10000]\n",
    "\n",
    "plasmid_train_index = plasmid_index[:-int(len(plasmid_index) * (valid_set_size + test_set_size))]\n",
    "plasmid_valid_index = plasmid_index[plasmid_train_index.shape[0]:-int(len(plasmid_index) * valid_set_size)]\n",
    "plasmid_test_index = plasmid_index[plasmid_train_index.shape[0] + plasmid_valid_index.shape[0]:]\n",
    "\n",
    "print('Training set size = ' + str(plasmid_train_index.shape[0]))\n",
    "print('Validation set size = ' + str(plasmid_valid_index.shape[0]))\n",
    "print('Test set size = ' + str(plasmid_test_index.shape[0]))"
   ]
  },
  {
   "cell_type": "code",
   "execution_count": 14,
   "metadata": {},
   "outputs": [
    {
     "name": "stdout",
     "output_type": "stream",
     "text": [
      "GGGCATCGACTTCAAGGAGGACGGCAACATCCTGGGGCACAAGCTGGAGTACAACTACAACAGCCACAACGTCTATATCATGGCCGACAAGCAGAAGAACGGCATCAAAGTGAACTTCAAGATCCGCCACAACATCGAGGTGCTTGGACAAAAGGGACAGGCCCGAATAACGGGTCGACCCAGGTTCGTGGGACGACATTGATAAGGAAGGGGAGGAGGTATTCTTATCACCTTCGTGGCTACAGAGTTTCCTTATTTGTCTCTGTTGCCGGCTTATATGGACAAGCATATCACAGCCATTTATCGGAGCGCCTCCGTACACGCTATTATCGGACGCCTCGCGAGATCAATACGTATACCA\n"
     ]
    }
   ],
   "source": [
    "print(plasmid_dict['min_df']['padded_seq'][0])"
   ]
  }
 ],
 "metadata": {
  "kernelspec": {
   "display_name": "combined_keras_torch_env",
   "language": "python",
   "name": "python3"
  },
  "language_info": {
   "codemirror_mode": {
    "name": "ipython",
    "version": 3
   },
   "file_extension": ".py",
   "mimetype": "text/x-python",
   "name": "python",
   "nbconvert_exporter": "python",
   "pygments_lexer": "ipython3",
   "version": "3.7.12"
  }
 },
 "nbformat": 4,
 "nbformat_minor": 2
}
